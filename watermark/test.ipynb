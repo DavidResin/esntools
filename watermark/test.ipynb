{
 "cells": [
  {
   "cell_type": "code",
   "execution_count": 42,
   "metadata": {},
   "outputs": [],
   "source": [
    "import argparse, math, os, random, shutil, sys, textwrap\n",
    "from argparse import RawTextHelpFormatter\n",
    "from PIL import Image, ExifTags"
   ]
  },
  {
   "cell_type": "code",
   "execution_count": 39,
   "metadata": {},
   "outputs": [
    {
     "data": {
      "text/plain": [
       "_StoreAction(option_strings=['-p', '--pos'], dest='pos', nargs=None, const=None, default='bottom-right', type=<class 'str'>, choices=['bottom-right', 'bottom-left', 'top-right', 'top-left', 'center', 'random', 'all'], help='set the position of the watermark, options are the following:\\n> bottom-right [Default value]\\n> bottom-left\\n> top-right\\n> top-left\\n> center\\n> random [Random position in the 5 above for each image]\\n> all [Generates all 5 versions of each image with suffixes]', metavar='POSITION')"
      ]
     },
     "execution_count": 39,
     "metadata": {},
     "output_type": "execute_result"
    }
   ],
   "source": [
    "d_size = 0.2\n",
    "d_dist = 20\n",
    "\n",
    "d_input = \"input\"\n",
    "d_output = \"output\"\n",
    "d_wm = \"logo.png\"\n",
    "prefix = \"wm_\"\n",
    "pos_choices = [\"bottom-right\", \"bottom-left\", \"top-right\", \"top-left\", \"center\", \"random\", \"all\"]\n",
    "\n",
    "ap = argparse.ArgumentParser(description=\"ESN Watermark Inserter\", formatter_class=RawTextHelpFormatter)\n",
    "ap.add_argument(\"-q\", \t\"--quiet\", \t\taction=\"store_true\",\t \t\t\t\t\t\thelp=\"silent running\")\n",
    "ap.add_argument(\"-np\", \t\"--no-prefix\", \taction=\"store_true\", \t\t\t\t\t\t\thelp=f\"do not add a '{ prefix }' prefix to outputs\")\n",
    "ap.add_argument(\"-i\", \t\"--input\", \t\taction=\"store\", type=str,\tdefault=d_input,\thelp=f\"set a custom input directory path (default is '{ d_input }')\")\n",
    "ap.add_argument(\"-o\", \t\"--output\", \taction=\"store\", type=str,\tdefault=d_output,\thelp=f\"set a custom output directory path (default is '{ d_output }')\")\n",
    "ap.add_argument(\"-wm\", \t\"--watermark\", \taction=\"store\", type=str,\tdefault=d_wm,\t\thelp=f\"set a custom watermark file (default is '{ d_wm }')\")\n",
    "ap.add_argument(\"-r\", \t\"--ratio\", \t\taction=\"store\", type=float, default=d_size,\t\thelp=f\"set the ratio of the watermark's size compared to the image's size (default is { d_size })\")\n",
    "ap.add_argument(\"-d\", \t\"--distance\",\taction=\"store\", type=int,\tdefault=d_dist,\t\thelp=f\"set the distance between the watermark and the edge in pixels (default is { d_dist })\")\n",
    "ap.add_argument(\"-p\", \t\"--pos\", \t\ttype=str,\n",
    "                                        default=\"bottom-right\",\n",
    "                                        metavar=\"POSITION\",\n",
    "                                        choices=pos_choices,\n",
    "                                        help=textwrap.dedent(\"set the position of the watermark, options are the following:\\n\"\n",
    "                                                            + \"> bottom-right [Default value]\\n\"\n",
    "                                                            + \"> bottom-left\\n\"\n",
    "                                                            + \"> top-right\\n\"\n",
    "                                                            + \"> top-left\\n\"\n",
    "                                                            + \"> center\\n\"\n",
    "                                                            + \"> random [Random position in the 5 above for each image]\\n\"\n",
    "                                                            + \"> all [Generates all 5 versions of each image with suffixes]\"))"
   ]
  },
  {
   "cell_type": "code",
   "execution_count": 111,
   "metadata": {},
   "outputs": [
    {
     "name": "stderr",
     "output_type": "stream",
     "text": [
      "usage: ipykernel_launcher.py [-h] [-q] [-np] [-i INPUT] [-o OUTPUT] [-wm WATERMARK] [-r RATIO] [-d DISTANCE]\n",
      "                             [-p POSITION]\n",
      "ipykernel_launcher.py: error: unrecognized arguments: -f C:\\Users\\david\\AppData\\Roaming\\jupyter\\runtime\\kernel-42f50f4e-3e50-4c13-a3c5-f0789d15b0c2.json\n"
     ]
    },
    {
     "ename": "SystemExit",
     "evalue": "2",
     "output_type": "error",
     "traceback": [
      "An exception has occurred, use %tb to see the full traceback.\n",
      "\u001b[1;31mSystemExit\u001b[0m\u001b[1;31m:\u001b[0m 2\n"
     ]
    }
   ],
   "source": [
    "args = vars(ap.parse_args())\n",
    "\n",
    "quiet = args[\"quiet\"]\n",
    "prefix = \"\" if args[\"no-prefix\"] else prefix\n",
    "path_in = args[\"input\"]\n",
    "path_out = args[\"output\"]\n",
    "path_inv = \"invalid\"\n",
    "path_wm = args[\"watermark\"]\n",
    "ratio = args[\"ratio\"]\n",
    "dist = args[\"distance\"]\n",
    "pos = args[\"pos\"]"
   ]
  },
  {
   "cell_type": "code",
   "execution_count": 113,
   "metadata": {},
   "outputs": [],
   "source": [
    "path_in = d_input\n",
    "path_out = d_output\n",
    "path_wm = d_wm\n",
    "pos = \"top_left\""
   ]
  },
  {
   "cell_type": "code",
   "execution_count": 121,
   "metadata": {},
   "outputs": [],
   "source": [
    "def export_image(img, wm, pos, dist, file_out):\n",
    "    short = \"\".join([x[0] for x in pos.split(\"-\")])\n",
    "    iW, iH = img.size\n",
    "    wW, wH = wm.size\n",
    "\n",
    "    if short == \"c\":\n",
    "        spot = ((iW - wW) / 2, (iH - wH) / 2)\n",
    "    elif short == 'tl':\n",
    "        spot = (dist, dist)\n",
    "    elif short == 'tr':\n",
    "        spot = (iW - wW - dist, dist)\n",
    "    elif short == 'bl':\n",
    "        spot = (dist, iH - wH - dist)\n",
    "    elif short == 'br':\n",
    "        spot = (iW - wW - dist, iH - wH - dist)\n",
    "        \n",
    "    fst, snd = file_out\n",
    "    img.paste(wm, spot, wm)\n",
    "    img.save(fst + \"_\" + short + \".\" + snd)"
   ]
  },
  {
   "cell_type": "code",
   "execution_count": 117,
   "metadata": {},
   "outputs": [
    {
     "name": "stdout",
     "output_type": "stream",
     "text": [
      "Processed 0 images successfully!\n"
     ]
    }
   ],
   "source": [
    "fns = os.listdir(input_dir)\n",
    "this_pos = pos\n",
    "count, total, invalid = 0, len(fns), 0\n",
    "\n",
    "exts = ('.jpg', '.png', '.jpeg')\n",
    "proc_str = \"Processing image {} of {} (position: {}, invalid: {})\"\n",
    "end_str = \"Processed {} images successfully!\"\n",
    "inv_str = \" ({} image(s) failed and moved to 'invalid')\"\n",
    "\n",
    "# Load watermark\n",
    "wm = Image.open(path_wm)\n",
    "wW, wH = wm.size\n",
    "\n",
    "for fn in fns:\n",
    "    count += 1\n",
    "    print(proc_str.format(count, total, invalid), end=\"\\r\")\n",
    "    \n",
    "    # Generate paths\n",
    "    file_in = os.path.join(input_dir, fn)\n",
    "    file_out = os.path.join(output_dir, prefix + fn)\n",
    "    \n",
    "    # Move picture to 'invalid' if it doesn't have the right file format\n",
    "    if not any([fn.lower().endswith(ext) for ext in exts]):\n",
    "        invalid += 1\n",
    "        shutil.move(file_in, os.path.join(path_inv, fn))\n",
    "        continue\n",
    "    \n",
    "    file_out = file_out.rsplit(\".\", 1)\n",
    "        \n",
    "    # Load image\n",
    "    img = Image.open(file_in)\n",
    "    iW, iH = img.size\n",
    "    wm_ratio = max(wW / iW, wH / iH)\n",
    "\n",
    "    # Resize watermark only if it doesn't exceed its own resolution\n",
    "    if wm_ratio > ratio:\n",
    "        this_w = int(wW * sqrt(ratio / wm_ratio))\n",
    "        this_h = int(wH * sqrt(ratio / wm_ratio))\n",
    "        this_wm = wm.resize((this_w, this_h), Image.ANTIALIAS)\n",
    "        \n",
    "    # Randomize position if asked\n",
    "    if pos == \"random\":\n",
    "        this_pos = pos_choices[random.randint(0, 4)]\n",
    "\n",
    "    # Try to re-orient the picture if orientation data is available\n",
    "    if image._getexif():\n",
    "        tilt = dict((ExifTags.TAGS[k], v) for k, v in image._getexif().items() if k in ExifTags.TAGS)['Orientation']\n",
    "        \n",
    "        try:  \n",
    "            if tilt == 3:\n",
    "                img = img.rotate(180, expand=True)\n",
    "            elif tilt == 6:\n",
    "                img = img.rotate(270, expand=True)\n",
    "            elif tilt == 8:\n",
    "                img = img.rotate(90, expand=True)\n",
    "        except:\n",
    "            pass\n",
    "        \n",
    "    if pos == \"all\":\n",
    "        for c in pos_choices[:5]:\n",
    "            export_image(img.copy(), wm, c, dist, file_out)\n",
    "    else:\n",
    "        export_image(img.copy(), wm, pos, dist, file_out)\n",
    "    \n",
    "print(end_str.format(total) + (inv_str.format(invalid) if invalid else \"\"))"
   ]
  },
  {
   "cell_type": "code",
   "execution_count": 33,
   "metadata": {},
   "outputs": [
    {
     "ename": "FileNotFoundError",
     "evalue": "[WinError 3] The system cannot find the path specified: 'blabla'",
     "output_type": "error",
     "traceback": [
      "\u001b[1;31m---------------------------------------------------------------------------\u001b[0m",
      "\u001b[1;31mFileNotFoundError\u001b[0m                         Traceback (most recent call last)",
      "\u001b[1;32m<ipython-input-33-4aa522c2072b>\u001b[0m in \u001b[0;36m<module>\u001b[1;34m\u001b[0m\n\u001b[0;32m      1\u001b[0m \u001b[1;32mimport\u001b[0m \u001b[0mos\u001b[0m\u001b[1;33m\u001b[0m\u001b[1;33m\u001b[0m\u001b[0m\n\u001b[1;32m----> 2\u001b[1;33m \u001b[0mos\u001b[0m\u001b[1;33m.\u001b[0m\u001b[0mlistdir\u001b[0m\u001b[1;33m(\u001b[0m\u001b[1;34m\"blabla\"\u001b[0m\u001b[1;33m)\u001b[0m\u001b[1;33m\u001b[0m\u001b[1;33m\u001b[0m\u001b[0m\n\u001b[0m",
      "\u001b[1;31mFileNotFoundError\u001b[0m: [WinError 3] The system cannot find the path specified: 'blabla'"
     ]
    }
   ],
   "source": [
    "import os\n",
    "os.listdir(\"blabla\")"
   ]
  }
 ],
 "metadata": {
  "kernelspec": {
   "display_name": "watermark-env",
   "language": "python",
   "name": "watermark-env"
  },
  "language_info": {
   "codemirror_mode": {
    "name": "ipython",
    "version": 3
   },
   "file_extension": ".py",
   "mimetype": "text/x-python",
   "name": "python",
   "nbconvert_exporter": "python",
   "pygments_lexer": "ipython3",
   "version": "3.8.5"
  }
 },
 "nbformat": 4,
 "nbformat_minor": 4
}
