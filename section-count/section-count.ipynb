{
 "cells": [
  {
   "cell_type": "code",
   "execution_count": null,
   "id": "f8e5a7b0-5001-4405-822f-c282beb3dec6",
   "metadata": {},
   "outputs": [],
   "source": [
    "import tqdm\n",
    "import re\n",
    "import requests\n",
    "\n",
    "import pandas as pd\n",
    "\n",
    "from bs4 import BeautifulSoup\n",
    "from unicodedata import normalize\n",
    "from datetime import datetime"
   ]
  },
  {
   "cell_type": "markdown",
   "id": "eff5edbb-9b7b-4798-9446-edee62f11379",
   "metadata": {},
   "source": [
    "# ESN Automatic Section Counter"
   ]
  },
  {
   "cell_type": "markdown",
   "id": "339c7eba-a759-413c-8dbf-f5ff6edd8bc8",
   "metadata": {},
   "source": [
    "## Functions"
   ]
  },
  {
   "cell_type": "code",
   "execution_count": null,
   "id": "ace8b3e5-2ead-4cf6-ac04-46d6743a1670",
   "metadata": {
    "tags": []
   },
   "outputs": [],
   "source": [
    "def get_soup_from_url(url):\n",
    "    page = requests.get(url)\n",
    "    return BeautifulSoup(page.text, 'lxml')\n",
    "\n",
    "\n",
    "def get_global_counts(content):\n",
    "    regex = \"The ESN network consists at this moment of (\\d+) local sections in (\\d+) countries.\"\n",
    "    text = normalize(\"NFKD\", content.find('p').get_text())\n",
    "    return [int(elem) for elem in re.search(regex, text).groups()]\n",
    "\n",
    "\n",
    "def get_country_section_count(country_url):\n",
    "    soup = get_soup_from_url(country_url)\n",
    "    national_org_name = soup.find('h1', {'class': 'page-header'}).text\n",
    "    \n",
    "    section_count_paragraph = soup.find('div', {'class': 'num_sections_country'}).text\n",
    "    section_count_regex = \"Number of sections: (\\d+)\"\n",
    "    section_count = int(re.search(section_count_regex, section_count_paragraph).group(1))\n",
    "\n",
    "    return national_org_name, section_count\n",
    "\n",
    "\n",
    "def get_cells(row, tag):\n",
    "    return [elem.text.strip() for elem in row.find_all(tag)]"
   ]
  },
  {
   "cell_type": "markdown",
   "id": "29e73dc3-6922-4c44-9806-0dc5f16c6488",
   "metadata": {},
   "source": [
    "## Website scraping"
   ]
  },
  {
   "cell_type": "markdown",
   "id": "da0524e3-9b5b-4f18-8092-8dcb4dbd8a92",
   "metadata": {},
   "source": [
    "### Global counts"
   ]
  },
  {
   "cell_type": "code",
   "execution_count": null,
   "id": "1cd45519-7a54-4127-b4b6-8afc5ed0b472",
   "metadata": {},
   "outputs": [],
   "source": [
    "main_url = \"https://www.esn.org/sections\"\n",
    "main_soup = get_soup_from_url(main_url)\n",
    "main_content = main_soup.find(id='content-block').find('div').find('div').find('div').find('div')"
   ]
  },
  {
   "cell_type": "code",
   "execution_count": null,
   "id": "08a72e0e-621d-47c7-a815-ff09e4311b4a",
   "metadata": {},
   "outputs": [],
   "source": [
    "global_section_count, global_country_count = get_global_counts(main_content)\n",
    "global_section_count, global_country_count"
   ]
  },
  {
   "cell_type": "markdown",
   "id": "3fd34d17-cdf6-4073-ac8d-695db6998af6",
   "metadata": {},
   "source": [
    "### Counts per country"
   ]
  },
  {
   "cell_type": "code",
   "execution_count": null,
   "id": "4caec644-ac15-4129-a5db-cad268a6ce39",
   "metadata": {},
   "outputs": [],
   "source": [
    "country_divs = main_content.find('div').find_all('div')\n",
    "country_urls = [elem.find('a')['href'] for elem in country_divs]\n",
    "main_country_counts = pd.Series(dict([get_country_section_count(elem) for elem in tqdm.tqdm(country_urls)]))\n",
    "main_country_counts = main_country_counts.rename('website')\n",
    "main_country_counts = main_country_counts.rename(index={'ESN UK': 'ESN United Kingdom'})"
   ]
  },
  {
   "cell_type": "code",
   "execution_count": null,
   "id": "611b2b4e-4296-47f6-945a-fec2e531e49f",
   "metadata": {},
   "outputs": [],
   "source": [
    "agg_section_count, agg_country_count = main_country_counts.sum(), main_country_counts.count()\n",
    "agg_section_count, agg_country_count"
   ]
  },
  {
   "cell_type": "markdown",
   "id": "8062f339-bffe-463e-95e4-cfe52874f054",
   "metadata": {},
   "source": [
    "## Wiki scraping"
   ]
  },
  {
   "cell_type": "code",
   "execution_count": null,
   "id": "49ce5de7-37d3-4ae6-bddc-7af97286a7cb",
   "metadata": {},
   "outputs": [],
   "source": [
    "wiki_url = \"https://en.wikipedia.org/wiki/Erasmus_Student_Network\"\n",
    "wiki_table_candidates = get_soup_from_url(wiki_url).select('.wikitable.sortable')\n",
    "\n",
    "if len(wiki_table_candidates) > 1:\n",
    "    raise ValueError(\"There are multiple valid tags. Further clarification needed.\")\n",
    "elif len(wiki_table_candidates) == 0:\n",
    "    raise ValueError(\"No valid tag detected.\")\n",
    "    \n",
    "rows = wiki_table_candidates[0].find_all('tr')\n",
    "headers = get_cells(rows[0], tag='th')\n",
    "rows = [get_cells(elem, tag='td') for elem in rows[1:-1]]\n",
    "\n",
    "table = pd.DataFrame(rows, columns=headers)\n",
    "table['Name'] = table['Name'] \\\n",
    "    .str.split('(').apply(pd.Series)[0] \\\n",
    "    .str.replace('†', '', regex=False) \\\n",
    "    .str.replace('*', '', regex=False) \\\n",
    "    .str.strip()\n",
    "table['Local sections'] = table['Local sections'].str.replace('-', '0').astype(int)\n",
    "\n",
    "wiki_country_counts = table[['Name', 'Local sections']].set_index('Name')['Local sections']\n",
    "wiki_country_counts = wiki_country_counts.rename('wiki')\n",
    "wiki_country_counts.index.name = None"
   ]
  },
  {
   "cell_type": "markdown",
   "id": "b6d1f056-bfb9-4222-9b4b-723273aaa01c",
   "metadata": {},
   "source": [
    "## Crossing datasets"
   ]
  },
  {
   "cell_type": "code",
   "execution_count": null,
   "id": "0ef7661c-348b-4760-b91b-583e50754923",
   "metadata": {},
   "outputs": [],
   "source": [
    "counts_comparison = wiki_country_counts.to_frame().join(main_country_counts.to_frame(), how='outer').fillna(0).astype(int)\n",
    "counts_comparison['different'] = counts_comparison['wiki'] != counts_comparison['website']\n",
    "counts_comparison = counts_comparison[counts_comparison['different']][['wiki', 'website']]"
   ]
  },
  {
   "cell_type": "markdown",
   "id": "1419ecbd-4c8c-4170-b403-6c479a0c8510",
   "metadata": {},
   "source": [
    "## Results"
   ]
  },
  {
   "cell_type": "code",
   "execution_count": null,
   "id": "14609413-0c6e-4d80-a2ae-570d1bc2c158",
   "metadata": {},
   "outputs": [],
   "source": [
    "print(\"Results as of\", datetime.today().strftime(\"%B %d, %Y at %H:%M:%S\"))"
   ]
  },
  {
   "cell_type": "code",
   "execution_count": null,
   "id": "14003470-571e-4eb9-873f-ffd163e972e1",
   "metadata": {},
   "outputs": [],
   "source": [
    "print(\"The official website currently indicates ESN comprises\", global_section_count, \"sections in\", global_country_count, \"countries.\")"
   ]
  },
  {
   "cell_type": "code",
   "execution_count": null,
   "id": "642c5cb4-1ee5-4a43-9bb3-5e425840c635",
   "metadata": {},
   "outputs": [],
   "source": [
    "if global_section_count == agg_section_count:\n",
    "    print(\"The aggregate and global section counts are the same.\")\n",
    "else:\n",
    "    print(\"The aggregate section count is however different at\", agg_section_count)"
   ]
  },
  {
   "cell_type": "code",
   "execution_count": null,
   "id": "ace67ca5-bf86-4fe5-a7ab-e560ab409936",
   "metadata": {},
   "outputs": [],
   "source": [
    "if global_country_count == agg_country_count:\n",
    "    print(\"The aggregate and global country counts are the same.\")\n",
    "else:\n",
    "    print(\"The aggregate country count is however different at\", agg_country_count)"
   ]
  },
  {
   "cell_type": "code",
   "execution_count": null,
   "id": "2f518847-6c3d-4db8-a65b-36b0c6d931ec",
   "metadata": {},
   "outputs": [],
   "source": [
    "if len(counts_comparison) == 0:\n",
    "    print(\"No differences detected between the website and the wiki!\")\n",
    "else:\n",
    "    print(\"The following differences were detected between the website and the wiki:\")\n",
    "    print()\n",
    "    print(counts_comparison)"
   ]
  },
  {
   "cell_type": "code",
   "execution_count": null,
   "id": "9980485a-709d-4e71-bff9-f9bcd124fd64",
   "metadata": {},
   "outputs": [],
   "source": []
  }
 ],
 "metadata": {
  "kernelspec": {
   "display_name": "Python 3 (ipykernel)",
   "language": "python",
   "name": "python3"
  },
  "language_info": {
   "codemirror_mode": {
    "name": "ipython",
    "version": 3
   },
   "file_extension": ".py",
   "mimetype": "text/x-python",
   "name": "python",
   "nbconvert_exporter": "python",
   "pygments_lexer": "ipython3",
   "version": "3.11.1"
  }
 },
 "nbformat": 4,
 "nbformat_minor": 5
}
