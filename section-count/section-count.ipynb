{
 "cells": [
  {
   "cell_type": "code",
   "execution_count": 1,
   "id": "f8e5a7b0-5001-4405-822f-c282beb3dec6",
   "metadata": {},
   "outputs": [],
   "source": [
    "import tqdm\n",
    "import re\n",
    "import requests\n",
    "\n",
    "import pandas as pd\n",
    "\n",
    "from bs4 import BeautifulSoup\n",
    "from unicodedata import normalize\n",
    "from datetime import datetime"
   ]
  },
  {
   "cell_type": "markdown",
   "id": "eff5edbb-9b7b-4798-9446-edee62f11379",
   "metadata": {},
   "source": [
    "# ESN Automatic Section Counter"
   ]
  },
  {
   "cell_type": "markdown",
   "id": "339c7eba-a759-413c-8dbf-f5ff6edd8bc8",
   "metadata": {},
   "source": [
    "## Functions"
   ]
  },
  {
   "cell_type": "code",
   "execution_count": 2,
   "id": "ace8b3e5-2ead-4cf6-ac04-46d6743a1670",
   "metadata": {
    "tags": []
   },
   "outputs": [],
   "source": [
    "def get_soup_from_url(url):\n",
    "    page = requests.get(url)\n",
    "    return BeautifulSoup(page.text, 'lxml')\n",
    "\n",
    "def get_global_counts(content):\n",
    "    regex = \"The ESN network consists at this moment of (\\d+) local sections in (\\d+) countries.\"\n",
    "    text = normalize(\"NFKD\", content.find('p').get_text())\n",
    "    return [int(elem) for elem in re.search(regex, text).groups()]\n",
    "\n",
    "def get_country_section_count(country_url):\n",
    "    soup = get_soup_from_url(country_url)\n",
    "    national_org_name = soup.find('h1', {'class': 'page-header'}).text\n",
    "    \n",
    "    section_count_paragraph = soup.find('div', {'class': 'num_sections_country'}).text\n",
    "    section_count_regex = \"Number of sections: (\\d+)\"\n",
    "    section_count = int(re.search(section_count_regex, section_count_paragraph).group(1))\n",
    "\n",
    "    return national_org_name, section_count"
   ]
  },
  {
   "cell_type": "markdown",
   "id": "29e73dc3-6922-4c44-9806-0dc5f16c6488",
   "metadata": {},
   "source": [
    "## Data scraping"
   ]
  },
  {
   "cell_type": "markdown",
   "id": "da0524e3-9b5b-4f18-8092-8dcb4dbd8a92",
   "metadata": {},
   "source": [
    "### Global counts"
   ]
  },
  {
   "cell_type": "code",
   "execution_count": 3,
   "id": "1cd45519-7a54-4127-b4b6-8afc5ed0b472",
   "metadata": {},
   "outputs": [],
   "source": [
    "main_url = \"https://www.esn.org/sections\"\n",
    "soup = get_soup_from_url(main_url)\n",
    "content = soup.find(id='content-block').find('div').find('div').find('div').find('div')"
   ]
  },
  {
   "cell_type": "code",
   "execution_count": 4,
   "id": "08a72e0e-621d-47c7-a815-ff09e4311b4a",
   "metadata": {},
   "outputs": [
    {
     "data": {
      "text/plain": [
       "(519, 45)"
      ]
     },
     "execution_count": 4,
     "metadata": {},
     "output_type": "execute_result"
    }
   ],
   "source": [
    "global_section_count, global_country_count = get_global_counts(content)\n",
    "global_section_count, global_country_count"
   ]
  },
  {
   "cell_type": "markdown",
   "id": "3fd34d17-cdf6-4073-ac8d-695db6998af6",
   "metadata": {},
   "source": [
    "### Counts per country"
   ]
  },
  {
   "cell_type": "code",
   "execution_count": 5,
   "id": "4caec644-ac15-4129-a5db-cad268a6ce39",
   "metadata": {},
   "outputs": [
    {
     "name": "stderr",
     "output_type": "stream",
     "text": [
      "100%|████████████████████████████████████████████████████████████████████████████████████████████████████| 45/45 [00:06<00:00,  7.39it/s]\n"
     ]
    },
    {
     "data": {
      "text/plain": [
       "ESN Albania                    1\n",
       "ESN Armenia                    1\n",
       "ESN Austria                   15\n",
       "ESN Azerbaijan                 1\n",
       "ESN Belgium                   18\n",
       "ESN Bosnia and Herzegovina     2\n",
       "ESN Bulgaria                  11\n",
       "ESN Croatia                    7\n",
       "ESN Cyprus                     1\n",
       "ESN Czech Republic            19\n",
       "ESN Denmark                    6\n",
       "ESN Estonia                    5\n",
       "ESN Finland                   15\n",
       "ESN France                    34\n",
       "ESN Georgia                    1\n",
       "ESN Germany                   45\n",
       "ESN Greece                    20\n",
       "ESN Hungary                   14\n",
       "ESN Ireland                   10\n",
       "ESN Italy                     53\n",
       "ESN Jordan                     1\n",
       "ESN Kazakhstan                 1\n",
       "ESN Latvia                     3\n",
       "ESN Liechtenstein              1\n",
       "ESN Lithuania                 11\n",
       "ESN Luxembourg                 1\n",
       "ESN Malta                      1\n",
       "ESN Moldova                    1\n",
       "ESN Montenegro                 1\n",
       "ESN North Macedonia            1\n",
       "ESN Norway                     7\n",
       "ESN Poland                    29\n",
       "ESN Portugal                  13\n",
       "ESN Romania                   14\n",
       "ESN Russia                     1\n",
       "ESN Serbia                     3\n",
       "ESN Slovakia                  10\n",
       "ESN Slovenia                   4\n",
       "ESN Spain                     38\n",
       "ESN Sweden                    15\n",
       "ESN Switzerland               14\n",
       "ESN the Netherlands           16\n",
       "ESN Türkiye                   39\n",
       "ESN UK                        15\n",
       "ESN Ukraine                    2\n",
       "dtype: int64"
      ]
     },
     "execution_count": 5,
     "metadata": {},
     "output_type": "execute_result"
    }
   ],
   "source": [
    "country_divs = content.find('div').find_all('div')\n",
    "country_urls = [elem.find('a')['href'] for elem in country_divs]\n",
    "country_counts = pd.Series(dict([get_country_section_count(elem) for elem in tqdm.tqdm(country_urls)]))\n",
    "country_counts"
   ]
  },
  {
   "cell_type": "code",
   "execution_count": 6,
   "id": "611b2b4e-4296-47f6-945a-fec2e531e49f",
   "metadata": {},
   "outputs": [
    {
     "data": {
      "text/plain": [
       "(521, 45)"
      ]
     },
     "execution_count": 6,
     "metadata": {},
     "output_type": "execute_result"
    }
   ],
   "source": [
    "agg_section_count, agg_country_count = country_counts.sum(), country_counts.count()\n",
    "agg_section_count, agg_country_count"
   ]
  },
  {
   "cell_type": "markdown",
   "id": "1419ecbd-4c8c-4170-b403-6c479a0c8510",
   "metadata": {},
   "source": [
    "## Results"
   ]
  },
  {
   "cell_type": "code",
   "execution_count": 7,
   "id": "14609413-0c6e-4d80-a2ae-570d1bc2c158",
   "metadata": {},
   "outputs": [
    {
     "name": "stdout",
     "output_type": "stream",
     "text": [
      "Results as of September 26, 2024 at 22:15:28\n"
     ]
    }
   ],
   "source": [
    "print(\"Results as of\", datetime.today().strftime(\"%B %d, %Y at %H:%M:%S\"))"
   ]
  },
  {
   "cell_type": "code",
   "execution_count": 8,
   "id": "14003470-571e-4eb9-873f-ffd163e972e1",
   "metadata": {},
   "outputs": [
    {
     "name": "stdout",
     "output_type": "stream",
     "text": [
      "The official website currently indicates ESN comprises 519 sections in 45 countries.\n"
     ]
    }
   ],
   "source": [
    "print(\"The official website currently indicates ESN comprises\", global_section_count, \"sections in\", global_country_count, \"countries.\")"
   ]
  },
  {
   "cell_type": "code",
   "execution_count": 9,
   "id": "642c5cb4-1ee5-4a43-9bb3-5e425840c635",
   "metadata": {},
   "outputs": [
    {
     "name": "stdout",
     "output_type": "stream",
     "text": [
      "The aggregate section count is however different at 521\n"
     ]
    }
   ],
   "source": [
    "if global_section_count == agg_section_count:\n",
    "    print(\"The aggregate and global section counts are the same.\")\n",
    "else:\n",
    "    print(\"The aggregate section count is however different at\", agg_section_count)"
   ]
  },
  {
   "cell_type": "code",
   "execution_count": 10,
   "id": "ace67ca5-bf86-4fe5-a7ab-e560ab409936",
   "metadata": {},
   "outputs": [
    {
     "name": "stdout",
     "output_type": "stream",
     "text": [
      "The aggregate and global country counts are the same.\n"
     ]
    }
   ],
   "source": [
    "if global_country_count == agg_country_count:\n",
    "    print(\"The aggregate and global country counts are the same.\")\n",
    "else:\n",
    "    print(\"The aggregate country count is however different at\", agg_country_count)"
   ]
  },
  {
   "cell_type": "code",
   "execution_count": null,
   "id": "d5a062ca-ba21-4e7c-9bce-b5ea16daa542",
   "metadata": {},
   "outputs": [],
   "source": []
  }
 ],
 "metadata": {
  "kernelspec": {
   "display_name": "Python 3 (ipykernel)",
   "language": "python",
   "name": "python3"
  },
  "language_info": {
   "codemirror_mode": {
    "name": "ipython",
    "version": 3
   },
   "file_extension": ".py",
   "mimetype": "text/x-python",
   "name": "python",
   "nbconvert_exporter": "python",
   "pygments_lexer": "ipython3",
   "version": "3.11.1"
  }
 },
 "nbformat": 4,
 "nbformat_minor": 5
}
