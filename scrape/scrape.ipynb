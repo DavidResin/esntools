{
 "cells": [
  {
   "cell_type": "markdown",
   "metadata": {},
   "source": [
    "# Scraping `wiki.epfl.ch/esn`"
   ]
  },
  {
   "cell_type": "markdown",
   "metadata": {},
   "source": [
    "To login to Tequila, the `tequila-sessions` package must be installed from https://github.com/antoinealb/python-tequila"
   ]
  },
  {
   "cell_type": "code",
   "execution_count": null,
   "metadata": {},
   "outputs": [],
   "source": [
    "import os, re, tequila\n",
    "from bs4 import BeautifulSoup as bs\n",
    "from tqdm import tqdm"
   ]
  },
  {
   "cell_type": "code",
   "execution_count": null,
   "metadata": {},
   "outputs": [],
   "source": [
    "# Connect to tequila\n",
    "username = \"\"\n",
    "password = \"\"\n",
    "\n",
    "conn = tequila.create_tequila_session(username, password)\n",
    "conn"
   ]
  },
  {
   "cell_type": "code",
   "execution_count": null,
   "metadata": {},
   "outputs": [],
   "source": [
    "# Get the sitemap\n",
    "response = conn.get(\"http://wiki.epfl.ch/esn/sitemap\")\n",
    "\n",
    "# Extract the relevant pagenames\n",
    "pagenames = [t.split('\"')[0] for t in response.text.split(\"wiki.epfl.ch/esn/\")][1:-2]\n",
    "pagenames[:5]"
   ]
  },
  {
   "cell_type": "code",
   "execution_count": null,
   "metadata": {},
   "outputs": [],
   "source": [
    "not_fetched = []\n",
    "do_txt, do_img = True, True\n",
    "\n",
    "for pn in tqdm(pagenames):\n",
    "    raw = bs(conn.get(\"http://wiki.epfl.ch/esn/\" + pn).text).find(\"div\", {\"id\" : \"content\"})\n",
    "    pn_new = re.sub(\"[^0-9a-zA-Z]+\", \"_\", pn)\n",
    "    \n",
    "    # Process text\n",
    "    if do_txt:\n",
    "        with open(os.path.join(\"data\", \"wiki\", pn_new + \".txt\"), \"w\", encoding=\"utf8\") as f:\n",
    "            f.write(raw.get_text())\n",
    "    \n",
    "    # Process images\n",
    "    if do_img:\n",
    "        imgs = set(tag['src'] for tag in raw.findAll('img'))\n",
    "\n",
    "        for i in imgs:\n",
    "            if len(i) < 100:\n",
    "                name = re.sub(\"[^0-9a-zA-Z.]+\", \"_\", i.rsplit(\"/\", 1)[1])\n",
    "\n",
    "                try:\n",
    "                    with open(os.path.join(\"data\", \"wiki\", pn_new + \"_\" + name), \"wb\") as f:\n",
    "                        for chunk in conn.get(i).iter_content(1024):\n",
    "                            f.write(chunk)\n",
    "                except:\n",
    "                    not_fetched += [i,]\n",
    "            else:\n",
    "                not_fetched += [i,]"
   ]
  },
  {
   "cell_type": "code",
   "execution_count": null,
   "metadata": {},
   "outputs": [],
   "source": [
    "# Lists all images that were unfetchable\n",
    "for nf in not_fetched:\n",
    "    if len(nf) < 1000:\n",
    "        print(nf)\n",
    "    else:\n",
    "        print(\"Too long\")"
   ]
  }
 ],
 "metadata": {
  "kernelspec": {
   "display_name": "Python 3",
   "language": "python",
   "name": "python3"
  },
  "language_info": {
   "codemirror_mode": {
    "name": "ipython",
    "version": 3
   },
   "file_extension": ".py",
   "mimetype": "text/x-python",
   "name": "python",
   "nbconvert_exporter": "python",
   "pygments_lexer": "ipython3",
   "version": "3.8.5"
  }
 },
 "nbformat": 4,
 "nbformat_minor": 4
}
